{
 "cells": [
  {
   "cell_type": "code",
   "execution_count": null,
   "metadata": {
    "_cell_guid": "79c7e3d0-c299-4dcb-8224-4455121ee9b0",
    "_uuid": "d629ff2d2480ee46fbb7e2d37f6b5fab8052498a"
   },
   "outputs": [],
   "source": [
    "# First of all, I will import the two libraries that will help me analyze the call data. \n",
    "# One of them is the poweful Pandas.🐼\n",
    "\n",
    "import numpy as np\n",
    "import pandas as pd"
   ]
  },
  {
   "cell_type": "code",
   "execution_count": null,
   "metadata": {
    "_uuid": "573b7c3c9b9e601cd75f296acb966fadf80bbf86"
   },
   "outputs": [],
   "source": [
    "# Secondly, I will import the libraries for data visualization.\n",
    "# For a greater practicality, I will tap a code which will enable to watch the graphs after coding them.\n",
    "\n",
    "import matplotlib.pyplot as plt\n",
    "import seaborn as sns\n",
    "% matplotlib inline"
   ]
  },
  {
   "cell_type": "code",
   "execution_count": null,
   "metadata": {
    "_uuid": "25da1205250796ae2e664242d6737c260354ab4c"
   },
   "outputs": [],
   "source": [
    "# Now I will read the file that I will analyze and visualize.\n",
    "df = pd.read_csv('Call_Data.csv')"
   ]
  },
  {
   "cell_type": "code",
   "execution_count": null,
   "metadata": {
    "_uuid": "491d3269ae8577eb48d8bd9e1eef0fd7b39b0245"
   },
   "outputs": [],
   "source": [
    "# Let's extract some informations from this file.\n",
    "\n",
    "df.info()   # We can see that there are more than 300,000 entries and 9 columns. \n",
    "            # There are numbers (floats and integers) and strings."
   ]
  },
  {
   "cell_type": "code",
   "execution_count": null,
   "metadata": {
    "_uuid": "bf381f339871952b5395cb1eb2c93bc23dd2acbd"
   },
   "outputs": [],
   "source": [
    "# Let's check the head!\n",
    "\n",
    "df.head()   # The data contains the following fields:\n",
    "\n",
    "            # lat : String variable, Latitude\n",
    "            # lng: String variable, Longitude\n",
    "            # desc: String variable, Description of the Emergency Call\n",
    "            # zip: String variable, Zipcode\n",
    "            # title: String variable, Title\n",
    "            # timeStamp: String variable, YYYY-MM-DD HH:MM:SS\n",
    "            # twp: String variable, Township\n",
    "            # addr: String variable, Address\n",
    "            # e: String variable, Dummy variable (always 1)"
   ]
  },
  {
   "cell_type": "code",
   "execution_count": null,
   "metadata": {
    "_uuid": "33ad509c693db4133f3f1ca40056a87e676f56d2"
   },
   "outputs": [],
   "source": [
    "# Now I will answer some basic questions!"
   ]
  },
  {
   "cell_type": "code",
   "execution_count": null,
   "metadata": {
    "_uuid": "749f523dee2f3c2e55f30eac2d808f4f2ec10bc1"
   },
   "outputs": [],
   "source": [
    "# What're the top 5 zipcodes for  calls?\n",
    "\n",
    "df.zip.value_counts().head(5)"
   ]
  },
  {
   "cell_type": "code",
   "execution_count": null,
   "metadata": {
    "_uuid": "e97e4d21a8154f61570e30bafa37d9f2b73802c9"
   },
   "outputs": [],
   "source": [
    "# What're the top 5 townships (twp) for calls?\n",
    "\n",
    "df.twp.value_counts().head(5)"
   ]
  },
  {
   "cell_type": "code",
   "execution_count": null,
   "metadata": {
    "_uuid": "435840f806cb24458da5aaba59a77037ec3f1fb8"
   },
   "outputs": [],
   "source": [
    "# How many unique title codes are there?\n",
    "\n",
    "df.title.nunique()"
   ]
  },
  {
   "cell_type": "code",
   "execution_count": null,
   "metadata": {
    "_uuid": "5026b415b92b3a7e38308c40213c0ceff9bc7e3c"
   },
   "outputs": [],
   "source": [
    "# To better understand the informations whitin the data and posteriorly to use for a better prediction, ...\n",
    "# ... is important create a new column from 'title' column with only the Reason.\n",
    "\n",
    "df['Reason'] = df['title'].apply(lambda title: title.split(':')[0])"
   ]
  },
  {
   "cell_type": "code",
   "execution_count": null,
   "metadata": {
    "_uuid": "8f4d8cc1194faea178d9cafafad984506358be2e"
   },
   "outputs": [],
   "source": [
    "# Lets check the result!\n",
    "\n",
    "df.head(3)"
   ]
  },
  {
   "cell_type": "code",
   "execution_count": null,
   "metadata": {
    "_uuid": "d1132328f75fe854266915ed8d3469691fdbb11a"
   },
   "outputs": [],
   "source": [
    "# What's the most common Reason for a call based in this new column?\n",
    "\n",
    "df.Reason.value_counts()"
   ]
  },
  {
   "cell_type": "code",
   "execution_count": null,
   "metadata": {
    "_uuid": "6e28621780c39f347ef67c3f67302d012c126581"
   },
   "outputs": [],
   "source": [
    "# Let's do the first graph visualization.\n",
    "# \" calls X Reason\"\"\n",
    "\n",
    "sns.countplot(x='Reason', data=df)"
   ]
  },
  {
   "cell_type": "code",
   "execution_count": null,
   "metadata": {
    "_uuid": "c7f5c4e4489b50f9642a8d2dc477b03b235c03e5"
   },
   "outputs": [],
   "source": [
    "# What's the data type of the objects in the 'timeStamp' column?\n",
    "\n",
    "type(df['timeStamp'].iloc[0])"
   ]
  },
  {
   "cell_type": "code",
   "execution_count": null,
   "metadata": {
    "_uuid": "0168f6cd7ec20f1ee4d61b0b34203628787cedb4"
   },
   "outputs": [],
   "source": [
    "# The timestamps are still strings. \n",
    "# I have to convert the column to DateTime objects with the purpose to better use in data analize.\n",
    "\n",
    "df['timeStamp'] = pd.to_datetime(df['timeStamp'])"
   ]
  },
  {
   "cell_type": "code",
   "execution_count": null,
   "metadata": {
    "_uuid": "219277bd4264c79fbe24affeff1e8377b057e18f"
   },
   "outputs": [],
   "source": [
    "# One more time, to good understand the informations and get a better prediction, ...\n",
    "# ... is important create new columns, from 'timeStamp' column, called 'Hour', 'Month' and 'Day of Week'.\n",
    "\n",
    "df['Hour'] = df['timeStamp'].apply(lambda time: time.hour)\n",
    "df['Month'] = df['timeStamp'].apply(lambda time: time.month)\n",
    "df['Day of Week'] = df['timeStamp'].apply(lambda time: time.dayofweek)\n",
    "\n",
    "# Let's see the result.\n",
    "\n",
    "df.head(3) "
   ]
  },
  {
   "cell_type": "code",
   "execution_count": null,
   "metadata": {
    "_uuid": "ed1232d0328c41d59fbedc4dd23559679879159f"
   },
   "outputs": [],
   "source": [
    "# The 'Day of Week' column has only number instead of strings, such as 'Mon', 'Sun', 'Thu' and so on.\n",
    "# I will solve this problem.\n",
    "\n",
    "dmap = {0:'Mon', 1:'Tue', 2:'Wed', 3:'Thu', 4:'Fri', 5:'Sat', 6:'Sun'}\n",
    "df['Day of Week'] = df['Day of Week'].map(dmap)\n",
    "\n",
    "# Let's check if the problem was solved.\n",
    "\n",
    "df.head(3) # Now we can see that the values in the 'Day of Week'changed from number to days of week."
   ]
  },
  {
   "cell_type": "code",
   "execution_count": null,
   "metadata": {
    "_uuid": "f6b2c7738cf48306f6e4b3e6aa2640e0884e52fe"
   },
   "outputs": [],
   "source": [
    "# Now I can use these new columns to do a new graph using 'Day of Week' column with the hue based in the Reason column.\n",
    "\n",
    "sns.countplot(x='Day of Week',data=df,hue='Reason',palette='viridis')\n",
    "\n",
    "# To relocate the legend\n",
    "\n",
    "plt.legend(bbox_to_anchor=(1.05, 1), loc=2, borderaxespad=0.)"
   ]
  },
  {
   "cell_type": "code",
   "execution_count": null,
   "metadata": {
    "_uuid": "62eacdc066467908ab0c5d0069651cfad546cb5f"
   },
   "outputs": [],
   "source": [
    "# Now I will do the same thing for 'Month'\n",
    "\n",
    "sns.countplot(x='Month',data=df,hue='Reason',palette='viridis')\n",
    "\n",
    "# To relocate the legend\n",
    "\n",
    "plt.legend(bbox_to_anchor=(1.05, 1), loc=2, borderaxespad=0.) \n",
    "\n",
    "# We can notice that is missing some months: 9,10, and 11 are not there."
   ]
  },
  {
   "cell_type": "code",
   "execution_count": null,
   "metadata": {
    "_uuid": "2078cc8a3dccfac3190c7b4fa7ce50a63db1c5ba"
   },
   "outputs": [],
   "source": [
    "# let's see if we can maybe fill in this information by plotting the information in another way.\n",
    "# I will create a gropuby object called 'byMonth', where I group the DataFrame by the month column and use the count() method for aggregation.\n",
    "\n",
    "byMonth = df.groupby('Month').count()\n",
    "\n",
    "# Let's chck the result!\n",
    "\n",
    "byMonth.head()"
   ]
  },
  {
   "cell_type": "code",
   "execution_count": null,
   "metadata": {
    "_uuid": "c68633e7e1a7f2935b733a32596aa835619e167e"
   },
   "outputs": [],
   "source": [
    "# Now I will create a simple plot of the dataframe indicating the count of calls per month.\n",
    "# Could be any column\n",
    "\n",
    "byMonth['twp'].plot() #That's it. I got it!"
   ]
  },
  {
   "cell_type": "code",
   "execution_count": null,
   "metadata": {
    "_uuid": "dc87572fc0b24adaa28c65f2fc3c7c57b31c696e"
   },
   "outputs": [],
   "source": [
    "# I will see if I can use seaborn's lmplot() to create a linear fit on the number of calls per month. \n",
    "# I can't forget that I need to reset the index to a column.\n",
    "\n",
    "\n",
    "sns.lmplot(x='Month',y='twp',data=byMonth.reset_index())"
   ]
  },
  {
   "cell_type": "code",
   "execution_count": null,
   "metadata": {
    "_uuid": "53f4d9c091e8ec376e25bd46234540ec4e03cee1"
   },
   "outputs": [],
   "source": [
    "# I will create a new column called 'Date' that contains the date from the timeStamp column.\n",
    "# As I sad before, these news columns helps better unsderstand the informations.\n",
    "\n",
    "df['Date']=df['timeStamp'].apply(lambda t: t.date())\n",
    "\n",
    "# Let's check!\n",
    "\n",
    "df.head(3)"
   ]
  },
  {
   "cell_type": "code",
   "execution_count": null,
   "metadata": {
    "_uuid": "98e41bb48bbff75a43716f1f1b8c3ee49799b70f"
   },
   "outputs": [],
   "source": [
    "# Now groupby this Date column with the count() aggregate and create a plot of counts of calls.\n",
    "\n",
    "plt.figure(figsize=(14,6)) # To better distinguish the legends.\n",
    "df.groupby('Date').count()['twp'].plot()\n",
    "plt.tight_layout()"
   ]
  },
  {
   "cell_type": "code",
   "execution_count": null,
   "metadata": {
    "_uuid": "e06bca86fd4412975562e015f59443e11b6100e4"
   },
   "outputs": [],
   "source": [
    "# Now I will recreate this plot, but creating 3 separate plots with each plot representing a Reason for the call.\n",
    "\n",
    "plt.figure(figsize=(14,6))\n",
    "df[df['Reason']=='Traffic'].groupby('Date').count()['twp'].plot()\n",
    "plt.title('SPIT')\n",
    "plt.tight_layout()"
   ]
  },
  {
   "cell_type": "code",
   "execution_count": null,
   "metadata": {
    "_uuid": "92903459dbfce37651ad60790cc03c2a215ea911"
   },
   "outputs": [],
   "source": [
    "plt.figure(figsize=(14,6))\n",
    "df[df['Reason']=='Fire'].groupby('Date').count()['twp'].plot()\n",
    "plt.title('Spam')\n",
    "plt.tight_layout()"
   ]
  },
  {
   "cell_type": "code",
   "execution_count": null,
   "metadata": {
    "_uuid": "ebf79f40d486ebeb00c224b22a28d082a6ca973c"
   },
   "outputs": [],
   "source": [
    "plt.figure(figsize=(14,6))\n",
    "df[df['Reason']=='EMS'].groupby('Date').count()['twp'].plot()\n",
    "plt.title('Normal')\n",
    "plt.tight_layout()\n",
    "\n",
    "# we can conclude that the 'Fire' has the lowest rate of call and 'EMS' has the uppest.  "
   ]
  },
  {
   "cell_type": "code",
   "execution_count": null,
   "metadata": {
    "_uuid": "23f6407ffe69f3303afe972933fc955f845e31b5"
   },
   "outputs": [],
   "source": [
    "# Now let's move on to creating heatmaps with seaborn and our data. \n",
    "# We'll first need to restructure the dataframe, so that the columns become the Hours and the Index becomes the Day of the Week.\n",
    "\n",
    "dayHour = df.groupby(by=['Day of Week','Hour']).count()['Reason'].unstack()\n",
    "\n",
    "# Let'see...\n",
    "dayHour.head()"
   ]
  },
  {
   "cell_type": "code",
   "execution_count": null,
   "metadata": {
    "_uuid": "3a4ea7a068e445e146f502246228d28a58db4dce"
   },
   "outputs": [],
   "source": [
    "# Now I will create a HeatMap using this new DataFrame.\n",
    "\n",
    "plt.figure(figsize=(12,6))\n",
    "sns.heatmap(dayHour,cmap='viridis')\n",
    "\n",
    "# We can notice that the higher volume of call happens Wednesday and Friday between 15h and 17h."
   ]
  },
  {
   "cell_type": "code",
   "execution_count": null,
   "metadata": {
    "_uuid": "6209fe962ee260c8d9308e4e6f6398e116ae22b1"
   },
   "outputs": [],
   "source": [
    "# Now I will repeat these same plots and operations for Month as the column.\n",
    "# I'm trying to get more and better informations and visualizations from data.\n",
    "\n",
    "dayMonth = df.groupby(by=['Day of Week','Month']).count()['Reason'].unstack()\n",
    "\n",
    "# Let's check!\n",
    "\n",
    "dayMonth.head()"
   ]
  },
  {
   "cell_type": "code",
   "execution_count": null,
   "metadata": {
    "_uuid": "3cb52edea0c9d95f20662f3bcbc9640676dcc98b"
   },
   "outputs": [],
   "source": [
    "# Heatmap\n",
    "\n",
    "plt.figure(figsize=(12,6))\n",
    "sns.heatmap(dayMonth,cmap='viridis')\n",
    "\n",
    "# We can notice that 'Friday' appears again, but, joining the informations from the last heatmap, the higher calls happens in March, on friday and between 15h/17h."
   ]
  }
 ],
 "metadata": {
  "kernelspec": {
   "display_name": "Python 3",
   "language": "python",
   "name": "python3"
  },
  "language_info": {
   "codemirror_mode": {
    "name": "ipython",
    "version": 3
   },
   "file_extension": ".py",
   "mimetype": "text/x-python",
   "name": "python",
   "nbconvert_exporter": "python",
   "pygments_lexer": "ipython3",
   "version": "3.10.5"
  }
 },
 "nbformat": 4,
 "nbformat_minor": 1
}
